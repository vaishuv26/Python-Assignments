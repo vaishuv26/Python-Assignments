{
 "cells": [
  {
   "cell_type": "code",
   "execution_count": 3,
   "metadata": {},
   "outputs": [
    {
     "name": "stdout",
     "output_type": "stream",
     "text": [
      "enter the string:gardening\n",
      "enter the character to be checked:n\n",
      "the n letter in gardening has repeated for 1 times\n",
      "the n letter in gardening has repeated for 2 times\n"
     ]
    }
   ],
   "source": [
    "#frequency of characters\n",
    "str=input(\"enter the string:\")\n",
    "ch=input(\"enter the character to be checked:\")\n",
    "count=0\n",
    "for letter in str:\n",
    "    if letter==ch:\n",
    "        count=count+1\n",
    "        print(\"the\",ch,\"letter\",\"in\",str,\"has repeated for\",count,\"times\")"
   ]
  },
  {
   "cell_type": "code",
   "execution_count": 1,
   "metadata": {},
   "outputs": [
    {
     "name": "stdout",
     "output_type": "stream",
     "text": [
      "enter the string:java script\n",
      "length of the string is 11\n"
     ]
    }
   ],
   "source": [
    "#length of string\n",
    "str=input(\"enter the string:\")\n",
    "c=len(str)\n",
    "print(\"length of the string is\",c)"
   ]
  },
  {
   "cell_type": "code",
   "execution_count": 6,
   "metadata": {},
   "outputs": [
    {
     "name": "stdout",
     "output_type": "stream",
     "text": [
      "enter the string:roses are red in colour\n",
      "enter the substring presence to be checked:are\n",
      "1\n"
     ]
    }
   ],
   "source": [
    "#substring occurance in a main string\n",
    "str=input(\"enter the string:\")\n",
    "ch=input(\"enter the substring presence to be checked:\")\n",
    "print(str.count(ch))"
   ]
  },
  {
   "cell_type": "code",
   "execution_count": 7,
   "metadata": {},
   "outputs": [
    {
     "name": "stdout",
     "output_type": "stream",
     "text": [
      "['honesty is the best policy']\n"
     ]
    }
   ],
   "source": [
    "#conversion of strings into list\n",
    "import ast\n",
    "str=\"['honesty is the best policy']\"\n",
    "print(ast.literal_eval(str))"
   ]
  },
  {
   "cell_type": "code",
   "execution_count": 8,
   "metadata": {},
   "outputs": [
    {
     "name": "stdout",
     "output_type": "stream",
     "text": [
      "enter the string:python programming\n",
      "enter the index where the character is to be deleted:4\n",
      "pythn programming\n"
     ]
    }
   ],
   "source": [
    "#deletion of character from string\n",
    "def char_dlt(str, n):\n",
    "    x=str[:n]\n",
    "    y=str[n+1:]\n",
    "    return x+y\n",
    "ch=input(\"enter the string:\")\n",
    "n=int(input(\"enter the index where the character is to be deleted:\"))\n",
    "print(char_dlt(ch,n))"
   ]
  },
  {
   "cell_type": "code",
   "execution_count": 9,
   "metadata": {},
   "outputs": [
    {
     "name": "stdout",
     "output_type": "stream",
     "text": [
      "enter the string:umbrella\n",
      "u\n",
      "m\n",
      "b\n",
      "r\n",
      "e\n",
      "l\n",
      "l\n",
      "a\n"
     ]
    }
   ],
   "source": [
    "str=input(\"enter the string:\")\n",
    "for index,char in enumerate(str):\n",
    "    print(char)"
   ]
  },
  {
   "cell_type": "code",
   "execution_count": 10,
   "metadata": {},
   "outputs": [
    {
     "name": "stdout",
     "output_type": "stream",
     "text": [
      "enter the string:intresting\n",
      "Length of the string is:\n",
      "1\n",
      "Length of the string is:\n",
      "2\n",
      "Length of the string is:\n",
      "3\n",
      "Length of the string is:\n",
      "4\n",
      "Length of the string is:\n",
      "5\n",
      "Length of the string is:\n",
      "6\n",
      "Length of the string is:\n",
      "7\n",
      "Length of the string is:\n",
      "8\n",
      "Length of the string is:\n",
      "9\n",
      "Length of the string is:\n",
      "10\n"
     ]
    }
   ],
   "source": [
    "#length of string without len function\n",
    "str=input(\"enter the string:\")\n",
    "count=0\n",
    "for i in str:\n",
    "    count=count+1\n",
    "    print(\"Length of the string is:\")\n",
    "    print(count)"
   ]
  },
  {
   "cell_type": "code",
   "execution_count": 11,
   "metadata": {},
   "outputs": [
    {
     "name": "stdout",
     "output_type": "stream",
     "text": [
      "I'm intersted in studying\n",
      "I'm intersted in studying\n"
     ]
    }
   ],
   "source": [
    "#new line removal\n",
    "str=\"I'm intersted in studying\"\n",
    "print(str)\n",
    "print(str.rstrip())"
   ]
  },
  {
   "cell_type": "code",
   "execution_count": null,
   "metadata": {},
   "outputs": [],
   "source": []
  }
 ],
 "metadata": {
  "kernelspec": {
   "display_name": "Python 3",
   "language": "python",
   "name": "python3"
  },
  "language_info": {
   "codemirror_mode": {
    "name": "ipython",
    "version": 3
   },
   "file_extension": ".py",
   "mimetype": "text/x-python",
   "name": "python",
   "nbconvert_exporter": "python",
   "pygments_lexer": "ipython3",
   "version": "3.7.4"
  }
 },
 "nbformat": 4,
 "nbformat_minor": 2
}
