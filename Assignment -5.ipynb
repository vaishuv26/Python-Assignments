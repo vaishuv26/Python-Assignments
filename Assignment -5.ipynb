{
 "cells": [
  {
   "cell_type": "code",
   "execution_count": 6,
   "metadata": {},
   "outputs": [
    {
     "name": "stdout",
     "output_type": "stream",
     "text": [
      "area of circle 78.53981633974483\n"
     ]
    }
   ],
   "source": [
    "import math \n",
    "def  findArea(r):\n",
    "    return math.pi*(r*r)\n",
    "\n",
    "print(\"area of circle\",findArea(5))"
   ]
  },
  {
   "cell_type": "code",
   "execution_count": 22,
   "metadata": {},
   "outputs": [
    {
     "name": "stdout",
     "output_type": "stream",
     "text": [
      "enter the radius of circle:7\n",
      "enter the angle of the segment:60\n",
      "the area of segment is: 25.65634000431664\n"
     ]
    }
   ],
   "source": [
    "#area of segment of circle\n",
    "import math\n",
    "r=float(input(\"enter the radius of circle:\"))\n",
    "angle=float(input(\"enter the angle of the segment:\"))\n",
    "A=(math.pi*r**2)*(angle/360)\n",
    "print(\"the area of segment is:\",A)\n"
   ]
  },
  {
   "cell_type": "code",
   "execution_count": 1,
   "metadata": {},
   "outputs": [
    {
     "name": "stdout",
     "output_type": "stream",
     "text": [
      "Original list: [20, 40, 60, 'red', 'programming']\n",
      "list after first shuffle: [60, 'programming', 'red', 20, 40]\n",
      "list after second shuffle: [20, 60, 'programming', 'red', 40]\n",
      "list after the third shuffle: [60, 'programming', 20, 'red', 40]\n",
      "list after fourth shuffle: ['programming', 60, 20, 'red', 40]\n",
      "list after fifth shuffle: [40, 'programming', 20, 'red', 60]\n"
     ]
    }
   ],
   "source": [
    "#Random shuffle the given list\n",
    "import random\n",
    "l1=[20,40,60,\"red\",\"programming\"]\n",
    "print(\"Original list:\",l1)\n",
    "random.shuffle(l1)\n",
    "print(\"list after first shuffle:\",l1)\n",
    "random.shuffle(l1)\n",
    "print(\"list after second shuffle:\",l1)\n",
    "random.shuffle(l1)\n",
    "print(\"list after the third shuffle:\",l1)\n",
    "random.shuffle(l1)\n",
    "print(\"list after fourth shuffle:\",l1)\n",
    "random.shuffle(l1)\n",
    "print(\"list after fifth shuffle:\",l1)\n",
    "random.shuffle(l1)"
   ]
  },
  {
   "cell_type": "code",
   "execution_count": 2,
   "metadata": {},
   "outputs": [
    {
     "name": "stdout",
     "output_type": "stream",
     "text": [
      "the value of Sin(60) is 0.8660254037844386\n",
      "the value of Cos(pi) is -1.0\n",
      "the value of Tan(90) is 1.633123935319537e+16\n",
      "the angle sin inverse of 60.003302839346176 Degrees\n",
      "the value of 5^8 is 13\n",
      "The square root value of 300 is 17.320508075688775\n",
      "the value of 8^e is 10\n",
      "the value of Log(1024) for base 2 is 10.0\n",
      "the value of log (1024) for base 10 is 3.0102999566398116\n",
      "the floor value of 35.16 is 35\n",
      "the ceil value of 35.16 is 36\n"
     ]
    }
   ],
   "source": [
    "#functioning of cmath\n",
    "import math\n",
    "print(\"the value of Sin(60) is\",math.sin((math.pi)/3))\n",
    "print(\"the value of Cos(pi) is\",math.cos(math.pi))\n",
    "print(\"the value of Tan(90) is\",math.tan((math.pi/2)))\n",
    "print(\"the angle sin inverse of\",(math.asin(0.866054037844386))*57.2958,\"Degrees\")\n",
    "print(\"the value of 5^8 is\",5^8)\n",
    "print(\"The square root value of 300 is\",math.sqrt(300))\n",
    "print(\"the value of 8^e is\",8^int(math.e))\n",
    "print(\"the value of Log(1024) for base 2 is\",math.log(1024,2))\n",
    "print(\"the value of log (1024) for base 10 is\",math.log(1024,10))\n",
    "print(\"the floor value of 35.16 is\",math.floor(35.16))\n",
    "print(\"the ceil value of 35.16 is\",math.ceil(35.16))"
   ]
  },
  {
   "cell_type": "code",
   "execution_count": 12,
   "metadata": {},
   "outputs": [
    {
     "name": "stdout",
     "output_type": "stream",
     "text": [
      "First shuffle 9700\n",
      "second shuffle 7850\n",
      "third shuffle 8800\n"
     ]
    }
   ],
   "source": [
    "#random numbers between 1 and 10000 with random difference 50\n",
    "import random\n",
    "print(\"First shuffle\",random.randrange(0,10001,50))\n",
    "print(\"second shuffle\",random.randrange(0,10001,50))\n",
    "print(\"third shuffle\",random.randrange(0,10001,50))"
   ]
  },
  {
   "cell_type": "code",
   "execution_count": 7,
   "metadata": {},
   "outputs": [
    {
     "name": "stdout",
     "output_type": "stream",
     "text": [
      "enter the number of sides: 3\n",
      "input the length of sides: 25\n",
      "the area of the polygon is:  270.6329386826372\n"
     ]
    }
   ],
   "source": [
    "from math import tan,pi\n",
    "n_side=int(input(\"enter the number of sides: \"))\n",
    "s_length=float(input(\"input the length of sides: \"))\n",
    "p_area=n_side*(s_length ** 2)/(4* tan(pi /n_side))\n",
    "print(\"the area of the polygon is: \",p_area)"
   ]
  },
  {
   "cell_type": "code",
   "execution_count": null,
   "metadata": {},
   "outputs": [],
   "source": []
  }
 ],
 "metadata": {
  "kernelspec": {
   "display_name": "Python 3",
   "language": "python",
   "name": "python3"
  },
  "language_info": {
   "codemirror_mode": {
    "name": "ipython",
    "version": 3
   },
   "file_extension": ".py",
   "mimetype": "text/x-python",
   "name": "python",
   "nbconvert_exporter": "python",
   "pygments_lexer": "ipython3",
   "version": "3.7.4"
  }
 },
 "nbformat": 4,
 "nbformat_minor": 2
}
