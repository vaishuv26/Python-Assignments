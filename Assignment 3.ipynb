{
 "cells": [
  {
   "cell_type": "code",
   "execution_count": 1,
   "metadata": {},
   "outputs": [
    {
     "name": "stdout",
     "output_type": "stream",
     "text": [
      "person is eligible for vote 36\n"
     ]
    }
   ],
   "source": [
    "# person is eligible for vote or not\n",
    "a=36\n",
    "if(a>=18):\n",
    "    print(\"person is eligible for vote\",a)\n",
    "else:\n",
    "    print(\"person is not eligible for vote\",a)\n",
    "\n"
   ]
  },
  {
   "cell_type": "code",
   "execution_count": 2,
   "metadata": {},
   "outputs": [
    {
     "name": "stdout",
     "output_type": "stream",
     "text": [
      "given number is odd 45\n"
     ]
    }
   ],
   "source": [
    "#odd or even\n",
    "f=45\n",
    "if(f%2==0):\n",
    "    print(\"given number is even\",f)\n",
    "else:\n",
    "    print(\"given number is odd\",f)"
   ]
  },
  {
   "cell_type": "code",
   "execution_count": 3,
   "metadata": {},
   "outputs": [
    {
     "name": "stdout",
     "output_type": "stream",
     "text": [
      "given number is postive 26\n"
     ]
    }
   ],
   "source": [
    "#postive or not\n",
    "b=26\n",
    "if(b%2==0):\n",
    "    print(\"given number is postive\",b)\n",
    "else:\n",
    "    print(\"given number is not postive\",b)"
   ]
  },
  {
   "cell_type": "code",
   "execution_count": 9,
   "metadata": {},
   "outputs": [
    {
     "name": "stdout",
     "output_type": "stream",
     "text": [
      "given number is zero or negative 37\n"
     ]
    }
   ],
   "source": [
    "#postive or negative or Zero\n",
    "x=37\n",
    "if(x%2==0):\n",
    "    print(\"given number is postive\",x)\n",
    "else:    \n",
    "    print(\"given number is zero or negative\",x)"
   ]
  },
  {
   "cell_type": "code",
   "execution_count": 15,
   "metadata": {},
   "outputs": [
    {
     "name": "stdout",
     "output_type": "stream",
     "text": [
      "the given number is prime number 34\n"
     ]
    }
   ],
   "source": [
    "#prime number or not\n",
    "num=34\n",
    "if num>1:\n",
    "  for i in range(2,num):\n",
    "    if(num%i==0):\n",
    "       print(\"the given number is prime number\",num)\n",
    "    break;\n",
    "else:\n",
    "       print(\"the given number is not a prime number\",num)\n",
    "        \n",
    "        \n",
    "        \n",
    "        "
   ]
  },
  {
   "cell_type": "code",
   "execution_count": 20,
   "metadata": {},
   "outputs": [
    {
     "name": "stdout",
     "output_type": "stream",
     "text": [
      "enter a character:f\n",
      "given character is consonant f\n"
     ]
    }
   ],
   "source": [
    "#vowel or consonant\n",
    "ch=input(\"enter a character:\")\n",
    "if(ch==\"a\")and(ch==\"e\")and(ch==\"i\")and(ch==\"o\")and(ch==\"u\"):\n",
    "    print(\"given character is vowel\",ch)\n",
    "else:\n",
    "    print(\"given character is consonant\",ch)"
   ]
  },
  {
   "cell_type": "code",
   "execution_count": 1,
   "metadata": {},
   "outputs": [
    {
     "name": "stdout",
     "output_type": "stream",
     "text": [
      "Quadratic function:(a*x^2)+b*x+c\n",
      "a:  5\n",
      "b:  20\n",
      "c:  10\n",
      "there are 2 roots:-0.585786 and -3.414214\n"
     ]
    }
   ],
   "source": [
    "from math import sqrt\n",
    "print(\"Quadratic function:(a*x^2)+b*x+c\")\n",
    "a=float(input(\"a:  \"))\n",
    "b=float(input(\"b:  \"))\n",
    "c=float(input(\"c:  \"))\n",
    "r=b**2-4*a*c\n",
    "if r>0:\n",
    "    num_roots=2\n",
    "    x1=(((-b)+sqrt(r))/(2*a))\n",
    "    x2=(((-b)-sqrt(r))/(2*a))\n",
    "    print(\"there are 2 roots:%f and %f\" % (x1,x2))\n",
    "elif r==0:\n",
    "    num_roots=1\n",
    "    x=(-b)/2*a\n",
    "    print(\"there is one root:\",x)\n",
    "else:\n",
    "    num_roots=0\n",
    "    print(\"no roots,discriminant<0.\")\n",
    "    exit()"
   ]
  },
  {
   "cell_type": "code",
   "execution_count": 3,
   "metadata": {},
   "outputs": [
    {
     "name": "stdout",
     "output_type": "stream",
     "text": [
      "enter a number between 1&5 :4\n",
      "4=FOUR\n"
     ]
    }
   ],
   "source": [
    "a=int(input(\"enter a number between 1&5 :\"))\n",
    "if  a==1:\n",
    "    print(\"1=ONE\")\n",
    "elif a==2:\n",
    "    print(\"2=TWO\")\n",
    "elif a==3:\n",
    "    print(\"3=THREE\")\n",
    "elif a==4:\n",
    "    print(\"4=FOUR\")\n",
    "elif a==5:\n",
    "    print(\"5=FIVE\")\n",
    "else:\n",
    "    print(\"Not in range of 1 & 5\")\n"
   ]
  },
  {
   "cell_type": "code",
   "execution_count": null,
   "metadata": {},
   "outputs": [],
   "source": []
  }
 ],
 "metadata": {
  "kernelspec": {
   "display_name": "Python 3",
   "language": "python",
   "name": "python3"
  },
  "language_info": {
   "codemirror_mode": {
    "name": "ipython",
    "version": 3
   },
   "file_extension": ".py",
   "mimetype": "text/x-python",
   "name": "python",
   "nbconvert_exporter": "python",
   "pygments_lexer": "ipython3",
   "version": "3.7.4"
  }
 },
 "nbformat": 4,
 "nbformat_minor": 2
}
