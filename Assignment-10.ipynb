{
 "cells": [
  {
   "cell_type": "code",
   "execution_count": 10,
   "metadata": {},
   "outputs": [
    {
     "name": "stdout",
     "output_type": "stream",
     "text": [
      "enter the size of the list:4\n",
      "enter number at location 0 :\n",
      "2\n",
      "the list is= [2]\n",
      "Original list: [2]\n",
      "After Cloning: [2]\n",
      "enter number at location 1 :\n",
      "3\n",
      "the list is= [2, 3]\n",
      "Original list: [2, 3]\n",
      "After Cloning: [2, 3]\n",
      "enter number at location 2 :\n",
      "6\n",
      "the list is= [2, 3, 6]\n",
      "Original list: [2, 3, 6]\n",
      "After Cloning: [2, 3, 6]\n",
      "enter number at location 3 :\n",
      "1\n",
      "the list is= [2, 3, 6, 1]\n",
      "Original list: [2, 3, 6, 1]\n",
      "After Cloning: [2, 3, 6, 1]\n"
     ]
    }
   ],
   "source": [
    "def Copy(list1):\n",
    "    li_Copy=list1[:]\n",
    "    return li_Copy\n",
    "list1=[]\n",
    "n=int(input(\"enter the size of the list:\"))\n",
    "for i in range(0,n):\n",
    "    print(\"enter number at location\",i,\":\")\n",
    "    item=int(input())\n",
    "    list1.append(item)\n",
    "    print(\"the list is=\",list1)\n",
    "    list2=Copy(list1)\n",
    "    print(\"Original list:\",list1)\n",
    "    print(\"After Cloning:\",list2)"
   ]
  },
  {
   "cell_type": "code",
   "execution_count": 11,
   "metadata": {},
   "outputs": [
    {
     "name": "stdout",
     "output_type": "stream",
     "text": [
      "Output: ['green', 'pink', 'purple']\n"
     ]
    }
   ],
   "source": [
    "color=[\"red\",\"green\",\"white\",\"black\",\"pink\",\"purple\"]\n",
    "color2=[x for (i,x) in enumerate(color) if i not in(0,3,2)]\n",
    "print(\"Output:\",color2)"
   ]
  },
  {
   "cell_type": "code",
   "execution_count": 12,
   "metadata": {},
   "outputs": [
    {
     "name": "stdout",
     "output_type": "stream",
     "text": [
      "enter the size of the list:6\n",
      "enter number at location 0 :\n",
      "4\n",
      "the list is= [4]\n",
      "the list after removing the even numbers= []\n",
      "enter number at location 1 :\n",
      "3\n",
      "the list is= [3]\n",
      "the list after removing the even numbers= [3]\n",
      "enter number at location 2 :\n",
      "2\n",
      "the list is= [3, 2]\n",
      "the list after removing the even numbers= [3]\n",
      "enter number at location 3 :\n",
      "1\n",
      "the list is= [3, 1]\n",
      "the list after removing the even numbers= [3, 1]\n",
      "enter number at location 4 :\n",
      "8\n",
      "the list is= [3, 1, 8]\n",
      "the list after removing the even numbers= [3, 1]\n",
      "enter number at location 5 :\n",
      "9\n",
      "the list is= [3, 1, 9]\n",
      "the list after removing the even numbers= [3, 1, 9]\n"
     ]
    }
   ],
   "source": [
    "list1=[]\n",
    "n=int(input(\"enter the size of the list:\"))\n",
    "for i in range(0, n):\n",
    "    print(\"enter number at location\",i,\":\")\n",
    "    item=int(input())\n",
    "    list1.append(item)\n",
    "    print(\"the list is=\",list1)\n",
    "    list1=[x for x in list1 if x%2!=0]\n",
    "    print(\"the list after removing the even numbers=\",list1)\n"
   ]
  },
  {
   "cell_type": "code",
   "execution_count": 13,
   "metadata": {},
   "outputs": [
    {
     "name": "stdout",
     "output_type": "stream",
     "text": [
      "['voilet', 'indigo', 'blue', 'yellow', 'red']\n"
     ]
    }
   ],
   "source": [
    "from random import shuffle\n",
    "color=[\"red\",\"yellow\",\"blue\",\"indigo\",\"voilet\"]\n",
    "shuffle(color)\n",
    "print(color)"
   ]
  },
  {
   "cell_type": "code",
   "execution_count": 20,
   "metadata": {},
   "outputs": [
    {
     "name": "stdout",
     "output_type": "stream",
     "text": [
      "enter the size of the first list::2\n",
      "enter the element of the first list::\n",
      "3\n",
      "4\n",
      "enter the size of the second list::5\n",
      "enter the element of the second list::\n",
      "6\n",
      "Difference of two lists::>\n",
      "[3, 4]\n",
      "7\n",
      "Difference of two lists::>\n",
      "[3, 4]\n",
      "9\n",
      "Difference of two lists::>\n",
      "[3, 4]\n",
      "3\n",
      "Difference of two lists::>\n",
      "[3, 4]\n",
      "2\n",
      "Difference of two lists::>\n",
      "[3, 4]\n"
     ]
    }
   ],
   "source": [
    "def Diff(A,B):\n",
    "    print(\"Difference of two lists::>\")\n",
    "    return(list(set(A)-set(B)))\n",
    "A=list()\n",
    "n1=int(input(\"enter the size of the first list::\"))\n",
    "print(\"enter the element of the first list::\")\n",
    "for i in range (int(n1)):\n",
    "    k=int(input(\"\"))\n",
    "    A.append(k)\n",
    "B=list()\n",
    "n2=int(input(\"enter the size of the second list::\"))\n",
    "print(\"enter the element of the second list::\")\n",
    "for i in range (int(n2)):\n",
    "    k=int(input(\"\"))\n",
    "    B.append(k)\n",
    "    print(Diff(A,B))   "
   ]
  },
  {
   "cell_type": "code",
   "execution_count": null,
   "metadata": {},
   "outputs": [],
   "source": []
  }
 ],
 "metadata": {
  "kernelspec": {
   "display_name": "Python 3",
   "language": "python",
   "name": "python3"
  },
  "language_info": {
   "codemirror_mode": {
    "name": "ipython",
    "version": 3
   },
   "file_extension": ".py",
   "mimetype": "text/x-python",
   "name": "python",
   "nbconvert_exporter": "python",
   "pygments_lexer": "ipython3",
   "version": "3.7.4"
  }
 },
 "nbformat": 4,
 "nbformat_minor": 2
}
