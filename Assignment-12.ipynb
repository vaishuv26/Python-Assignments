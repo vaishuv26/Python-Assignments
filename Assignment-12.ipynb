{
 "cells": [
  {
   "cell_type": "code",
   "execution_count": 2,
   "metadata": {},
   "outputs": [
    {
     "name": "stdout",
     "output_type": "stream",
     "text": [
      "The Sum of elements in the dictionary is 622\n"
     ]
    }
   ],
   "source": [
    "#sum of all elements\n",
    "def returnSum(myDict):\n",
    "    sum = 0\n",
    "    for i in myDict: \n",
    "        sum = sum + myDict[i] \n",
    "    return sum\n",
    "dict1={'m':500,'n':35,'k':87} \n",
    "print(\"The Sum of elements in the dictionary is\",returnSum(dict1))"
   ]
  },
  {
   "cell_type": "code",
   "execution_count": 3,
   "metadata": {},
   "outputs": [
    {
     "name": "stdout",
     "output_type": "stream",
     "text": [
      "\n",
      "It is dictionary with the use of Integer Keys: \n",
      "{3: 'three', 5: 'five', 7: 'seven'}\n",
      "\n",
      "It is dictionary with the use of Mixed Keys: \n",
      "{'Name': 'arjun', 3: [4, 5, 6, 7]}\n"
     ]
    }
   ],
   "source": [
    "#Python program to demonstrate accessing an element from a Dictionary\n",
    "dict2={3:'three',5:'five',7:'seven'} \n",
    "print(\"\\nIt is dictionary with the use of Integer Keys: \") \n",
    "print(dict2)\n",
    "dict3={'Name':'arjun',3:[4,5,6,7]} \n",
    "print(\"\\nIt is dictionary with the use of Mixed Keys: \") \n",
    "print(dict3)"
   ]
  },
  {
   "cell_type": "code",
   "execution_count": 4,
   "metadata": {},
   "outputs": [
    {
     "name": "stdout",
     "output_type": "stream",
     "text": [
      "Concatenated dictionary is:\n",
      "{'X': 4, 'Y': 8, 'Z': 12}\n"
     ]
    }
   ],
   "source": [
    "#Python program to concate two dictionaries\n",
    "d1={'X':4,'Y':8}\n",
    "d2={'Z':12}\n",
    "d1.update(d2)\n",
    "print(\"Concatenated dictionary is:\")\n",
    "print(d1)"
   ]
  },
  {
   "cell_type": "code",
   "execution_count": 5,
   "metadata": {},
   "outputs": [
    {
     "name": "stdout",
     "output_type": "stream",
     "text": [
      "Current Dict is:  {'key3': 'arjun', 'key4': 'arjun'}\n",
      "Updated Dict is:  {'key3': 'arjun', 'key4': 'arjun', 'key5': 'hot', 'key6': 'coffe'}\n"
     ]
    }
   ],
   "source": [
    "#Python program to add keys/values in a dictionary (update dictionary)\n",
    "dict = {'key3':'arjun','key4':'arjun'} \n",
    "print(\"Current Dict is: \",dict) \n",
    "dict['key5'] =\"hot\"\n",
    "dict['key6'] =\"coffe\"\n",
    "print(\"Updated Dict is: \", dict)"
   ]
  },
  {
   "cell_type": "code",
   "execution_count": 6,
   "metadata": {},
   "outputs": [
    {
     "name": "stdout",
     "output_type": "stream",
     "text": [
      "len() method : 3\n",
      "len() method with keys() : 3\n",
      "len() method with values() : 3\n"
     ]
    }
   ],
   "source": [
    "#Python program to find the length of a dictionary in Python?\n",
    "dict4 ={'Name':'arjun','Age':19,'Course':'BSE'}  \n",
    "print(\"len() method :\", len(dict4)) \n",
    "print(\"len() method with keys() :\", len(dict4.keys())) \n",
    "print(\"len() method with values() :\", len(dict4.values()))"
   ]
  },
  {
   "cell_type": "code",
   "execution_count": 8,
   "metadata": {},
   "outputs": [
    {
     "name": "stdout",
     "output_type": "stream",
     "text": [
      "{'r': 1, 's': 2, 't': 3, 'f': 4}\n",
      "{'s': 2, 't': 3, 'f': 4}\n"
     ]
    }
   ],
   "source": [
    "#Python program to remove items from the dictionary in Python\n",
    "dict3={'r':1,'s':2,'t':3,'f':4}\n",
    "print(dict3)\n",
    "if 'r' in dict3: \n",
    "    del dict3['r']\n",
    "print(dict3)"
   ]
  },
  {
   "cell_type": "code",
   "execution_count": null,
   "metadata": {},
   "outputs": [],
   "source": []
  }
 ],
 "metadata": {
  "kernelspec": {
   "display_name": "Python 3",
   "language": "python",
   "name": "python3"
  },
  "language_info": {
   "codemirror_mode": {
    "name": "ipython",
    "version": 3
   },
   "file_extension": ".py",
   "mimetype": "text/x-python",
   "name": "python",
   "nbconvert_exporter": "python",
   "pygments_lexer": "ipython3",
   "version": "3.7.4"
  }
 },
 "nbformat": 4,
 "nbformat_minor": 2
}
