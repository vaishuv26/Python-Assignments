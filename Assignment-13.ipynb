{
 "cells": [
  {
   "cell_type": "code",
   "execution_count": 1,
   "metadata": {},
   "outputs": [
    {
     "name": "stdout",
     "output_type": "stream",
     "text": [
      "enter the elements: 3\n",
      "enter the elements 4\n",
      "sum of all the elements in given list is: [4]\n",
      "enter the elements 5\n",
      "sum of all the elements in given list is: [4, 5]\n",
      "enter the elements 6\n",
      "sum of all the elements in given list is: [4, 5, 6]\n"
     ]
    }
   ],
   "source": [
    "#sum of all elements in list\n",
    "list1=[]\n",
    "num=int(input(\"enter the elements: \"))\n",
    "for n in range(num):\n",
    "    numbers=int(input(\"enter the elements \"))\n",
    "    list1.append(numbers)\n",
    "    print(\"sum of all the elements in given list is:\",list1)\n",
    "    "
   ]
  },
  {
   "cell_type": "code",
   "execution_count": 19,
   "metadata": {},
   "outputs": [
    {
     "name": "stdout",
     "output_type": "stream",
     "text": [
      "Enter the number of empty dictionaries:5\n",
      "The list of empty dictionaries is: [{}, {}, {}, {}, {}]\n"
     ]
    }
   ],
   "source": [
    "x=int(input(\"Enter the number of empty dictionaries:\"))\n",
    "dict1=[{}]*x\n",
    "print(\"The list of empty dictionaries is:\",str(dict1))"
   ]
  },
  {
   "cell_type": "code",
   "execution_count": 21,
   "metadata": {},
   "outputs": [
    {
     "name": "stdout",
     "output_type": "stream",
     "text": [
      "Enter the index:2\n",
      "ship\n"
     ]
    }
   ],
   "source": [
    "#Python program to access dictionary keys element by index\n",
    "list3={\"apple\":95,\"ball\":94,\"ship\":96}\n",
    "n=int(input(\"Enter the index:\"))\n",
    "print(list(list3)[n])"
   ]
  },
  {
   "cell_type": "code",
   "execution_count": 22,
   "metadata": {},
   "outputs": [
    {
     "name": "stdout",
     "output_type": "stream",
     "text": [
      "five is referred as 1\n",
      "nine is referred as 2\n",
      "eleven is referred as 3\n",
      "twelve is referred as 4\n"
     ]
    }
   ],
   "source": [
    "#Python program to iterate over dictionaries using for loops\n",
    "dict4={\"five\":1,\"nine\":2,\"eleven\":3,\"twelve\":4} \n",
    "for key,val in dict4.items():\n",
    "     print(key,\"is referred as\",dict4[key])"
   ]
  },
  {
   "cell_type": "code",
   "execution_count": 23,
   "metadata": {},
   "outputs": [
    {
     "name": "stdout",
     "output_type": "stream",
     "text": [
      "The sum of the dictionary items is: 28\n"
     ]
    }
   ],
   "source": [
    "#Python program to sum all the items in a dictionary\n",
    "dict5={\"apple5\":4,\"apple6\":-32,\"apple7\":56}\n",
    "print(\"The sum of the dictionary items is:\",sum(dict5.values()))"
   ]
  },
  {
   "cell_type": "code",
   "execution_count": 27,
   "metadata": {},
   "outputs": [
    {
     "name": "stdout",
     "output_type": "stream",
     "text": [
      "{1: 10, 2: 20, 3: 30, 4: 40, 5: 50, 6: 60}\n"
     ]
    }
   ],
   "source": [
    "#Python script to concatenate following dictionaries to create a new one\n",
    "dict4={1:10,2:20}\n",
    "dict5={3:30,4:40}\n",
    "dict6={5:50,6:60}\n",
    "dict7={}\n",
    "for d in (dict4,dict5,dict6):dict7.update(d)\n",
    "print(dict7)"
   ]
  },
  {
   "cell_type": "code",
   "execution_count": 28,
   "metadata": {},
   "outputs": [
    {
     "name": "stdout",
     "output_type": "stream",
     "text": [
      "() it is empty tuple\n",
      "('arjun', 'halle') is a tuple\n"
     ]
    }
   ],
   "source": [
    "#Python program to create a tuple \n",
    "emptytuple=() \n",
    "print(emptytuple,\"it is empty tuple\")\n",
    "tuple2=(\"arjun\",\"halle\") \n",
    "print(tuple2,\"is a tuple\")\n"
   ]
  },
  {
   "cell_type": "code",
   "execution_count": 30,
   "metadata": {},
   "outputs": [
    {
     "name": "stdout",
     "output_type": "stream",
     "text": [
      "('roses', <class 'list'>, 5.99, 4, 6)\n"
     ]
    }
   ],
   "source": [
    "#Python program to create a tuple with different data types \n",
    "tuple7=(\"roses\",list,5.99,4,6)\n",
    "print(tuple7)"
   ]
  },
  {
   "cell_type": "code",
   "execution_count": 32,
   "metadata": {},
   "outputs": [
    {
     "name": "stdout",
     "output_type": "stream",
     "text": [
      "A P P L E\n"
     ]
    }
   ],
   "source": [
    "#Python program to convert a tuple to a string \n",
    "def convertTuple(tup):\n",
    "    str=' '.join(tup) \n",
    "    return str \n",
    "tuple5=(\"A\",\"P\",\"P\",\"L\",\"E\") \n",
    "str=convertTuple(tuple5) \n",
    "print(str)"
   ]
  },
  {
   "cell_type": "code",
   "execution_count": 33,
   "metadata": {},
   "outputs": [
    {
     "name": "stdout",
     "output_type": "stream",
     "text": [
      "(5, 6)\n",
      "(3, 4, 5, 6, 12)\n",
      "(12, 15, 3, 7, 9, 8, 5, 4, 3)\n",
      "(3, 4, 5, 6, 12, 15, 3, 7, 9, 8, 5, 4, 3)\n",
      "(7, 9, 8)\n",
      "('p', 'y', 't', 'h', 'o', 'n', ' ', 'p', 'r', 'o', 'g', 'r', 'a', 'm', 'm', 'i', 'n', 'g')\n",
      "('h',)\n",
      "('p', ' ', 'a')\n",
      "()\n"
     ]
    }
   ],
   "source": [
    "#Python program to slice a tupl\n",
    "tuple3=(3,4,5,6,12,15,3,7,9,8,5,4,3)\n",
    "_slice = tuple3[2:4]\n",
    "print(_slice)\n",
    "_slice = tuple3[:5]\n",
    "print(_slice)\n",
    "_slice = tuple3[4:]\n",
    "print(_slice)\n",
    "_slice = tuple3[:]\n",
    "print(_slice)\n",
    "_slice = tuple3[-6:-3]\n",
    "print(_slice)\n",
    "tuple3=tuple(\"python programming\")\n",
    "print(tuple3)\n",
    "_slice = tuple3[3:6:3]\n",
    "print(_slice)\n",
    "_slice = tuple3[::6]\n",
    "print(_slice)\n",
    "_slice = tuple3[-4:3:5]\n",
    "print(_slice)"
   ]
  },
  {
   "cell_type": "code",
   "execution_count": 34,
   "metadata": {},
   "outputs": [
    {
     "name": "stdout",
     "output_type": "stream",
     "text": [
      "('A', 'R', 'J', 'U', 'N', ' ', 'H', 'A', 'L', 'L', 'E')\n",
      "Length of the tuple is: 11\n"
     ]
    }
   ],
   "source": [
    "#Python program to find the length of a tuple\n",
    "tuple7=tuple(\"ARJUN HALLE\")\n",
    "print(tuple7)\n",
    "print(\"Length of the tuple is:\",len(tuple7))\n"
   ]
  },
  {
   "cell_type": "code",
   "execution_count": 41,
   "metadata": {},
   "outputs": [
    {
     "name": "stdout",
     "output_type": "stream",
     "text": [
      "('A', 'L', 'L', 'E', 'R', 'B', 'M', 'U')\n",
      "(15, 12, 9, 6, 3)\n"
     ]
    }
   ],
   "source": [
    "#Python program to reverse a tuple \n",
    "x=(\"UMBRELLA\")\n",
    "y=reversed(x)\n",
    "print(tuple(y))\n",
    "x=(3,6,9,12,15)\n",
    "y=reversed(x)\n",
    "print(tuple(y))"
   ]
  },
  {
   "cell_type": "code",
   "execution_count": 42,
   "metadata": {},
   "outputs": [
    {
     "name": "stdout",
     "output_type": "stream",
     "text": [
      "{'One': [1], 'Two': [2], 'Three': [3], 'Four': [4], 'Five': [5], 'Six': [6]}\n"
     ]
    }
   ],
   "source": [
    "#Python program to convert a list of tuples into a dictionary\n",
    "def Convert(tup,di): \n",
    "    for a,b in tup: \n",
    "        di.setdefault(a,[]).append(b) \n",
    "    return di \n",
    "tuple4=[(\"One\",1),(\"Two\",2),(\"Three\",3),(\"Four\",4),(\"Five\",5),(\"Six\",6)] \n",
    "dict5={} \n",
    "print(Convert(tuple4,dict5))"
   ]
  },
  {
   "cell_type": "code",
   "execution_count": 48,
   "metadata": {},
   "outputs": [
    {
     "name": "stdout",
     "output_type": "stream",
     "text": [
      "{'nine': [9], 'eleven': [11], 'twelve': [12], 'twenty': [20], 'thirty': [30]}\n"
     ]
    }
   ],
   "source": [
    "#Python program to convert a list to a tuple\n",
    "def Convert(tup,dict): \n",
    "    for a,b in tup: \n",
    "        dict.setdefault(a,[]).append(b) \n",
    "    return dict \n",
    "tuple6=[(\"nine\",9),(\"eleven\",11),(\"twelve\",12),(\"twenty\",20),(\"thirty\",30)] \n",
    "dict3={} \n",
    "print(Convert(tuple6, dict3))"
   ]
  },
  {
   "cell_type": "code",
   "execution_count": null,
   "metadata": {},
   "outputs": [],
   "source": []
  }
 ],
 "metadata": {
  "kernelspec": {
   "display_name": "Python 3",
   "language": "python",
   "name": "python3"
  },
  "language_info": {
   "codemirror_mode": {
    "name": "ipython",
    "version": 3
   },
   "file_extension": ".py",
   "mimetype": "text/x-python",
   "name": "python",
   "nbconvert_exporter": "python",
   "pygments_lexer": "ipython3",
   "version": "3.7.4"
  }
 },
 "nbformat": 4,
 "nbformat_minor": 2
}
