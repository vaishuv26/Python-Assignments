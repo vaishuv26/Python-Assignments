{
 "cells": [
  {
   "cell_type": "code",
   "execution_count": 1,
   "metadata": {
    "scrolled": true
   },
   "outputs": [
    {
     "name": "stdout",
     "output_type": "stream",
     "text": [
      "to find the maximum of three numbers\n",
      "enter the first number:4\n",
      "enter the second number:5\n",
      "enter the third number: 7\n",
      "the maximum of three is 0\n"
     ]
    }
   ],
   "source": [
    "print(\"to find the maximum of three numbers\")\n",
    "Max=0\n",
    "a=float(input(\"enter the first number:\"))\n",
    "b=float(input(\"enter the second number:\"))\n",
    "c=float(input(\"enter the third number: \"))\n",
    "if(a>=b) and (a>=c):\n",
    "    max=a\n",
    "elif(b>=a) and (b>=c):\n",
    "    max=b\n",
    "else:\n",
    "    max=c\n",
    "print(\"the maximum of three is\",Max)"
   ]
  },
  {
   "cell_type": "code",
   "execution_count": 4,
   "metadata": {},
   "outputs": [
    {
     "name": "stdout",
     "output_type": "stream",
     "text": [
      "To reverse a string\n",
      "Enter the string: python\n",
      "The original string is:  python\n",
      "The reversed string is: p \n"
     ]
    }
   ],
   "source": [
    "print(\"To reverse a string\")\n",
    "def reverse(s):\n",
    "    str=\" \"\n",
    "    for i in s:\n",
    "        str=i+str\n",
    "        return str\n",
    "s=str(input(\"Enter the string: \"))\n",
    "print(\"The original string is: \",s)\n",
    "print(\"The reversed string is:\",reverse(s))"
   ]
  },
  {
   "cell_type": "code",
   "execution_count": 6,
   "metadata": {},
   "outputs": [
    {
     "name": "stdout",
     "output_type": "stream",
     "text": [
      "enter the postive integer:36\n",
      "36  is not a prime number\n"
     ]
    }
   ],
   "source": [
    "flag=0\n",
    "i=0\n",
    "n=int(input(\"enter the postive integer:\"))\n",
    "for i in range(2,n):\n",
    "    if n%i==0:\n",
    "        flag=1;\n",
    "        break;\n",
    "if  n==1:\n",
    "    print(\"1 is neither prime nor composite\")\n",
    "else:\n",
    "    if flag==0:\n",
    "        print(n,\" is a prime number\")\n",
    "    else:\n",
    "            print(n,\" is not a prime number\")"
   ]
  },
  {
   "cell_type": "code",
   "execution_count": 8,
   "metadata": {},
   "outputs": [
    {
     "name": "stdout",
     "output_type": "stream",
     "text": [
      "to find the sum of square of first n natural numbers\n",
      "enter the value of n: 5\n",
      "55.0\n"
     ]
    }
   ],
   "source": [
    "print(\"to find the sum of square of first n natural numbers\")\n",
    "def sumsquare(n):\n",
    "    return((n*(n+1)*(2*n+1))/6)\n",
    "n=int(input(\"enter the value of n: \"))\n",
    "print(sumsquare(n))"
   ]
  },
  {
   "cell_type": "code",
   "execution_count": 10,
   "metadata": {},
   "outputs": [
    {
     "name": "stdout",
     "output_type": "stream",
     "text": [
      "enter any number:1000\n",
      "the given number is NOT a pallindrome\n"
     ]
    }
   ],
   "source": [
    "num=input(\"enter any number:\")\n",
    "try:\n",
    "    val=int(num)\n",
    "    if num==str(num)[::-1]:\n",
    "        print(\"the given number is PALLINDROME\")\n",
    "    else:\n",
    "            print(\"the given number is NOT a pallindrome\")\n",
    "except ValueError:\n",
    "    print(\"That's not a valid number,Try Again!\")"
   ]
  },
  {
   "cell_type": "code",
   "execution_count": null,
   "metadata": {},
   "outputs": [],
   "source": []
  }
 ],
 "metadata": {
  "kernelspec": {
   "display_name": "Python 3",
   "language": "python",
   "name": "python3"
  },
  "language_info": {
   "codemirror_mode": {
    "name": "ipython",
    "version": 3
   },
   "file_extension": ".py",
   "mimetype": "text/x-python",
   "name": "python",
   "nbconvert_exporter": "python",
   "pygments_lexer": "ipython3",
   "version": "3.7.4"
  }
 },
 "nbformat": 4,
 "nbformat_minor": 2
}
