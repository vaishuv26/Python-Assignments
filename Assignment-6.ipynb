{
 "cells": [
  {
   "cell_type": "code",
   "execution_count": null,
   "metadata": {},
   "outputs": [],
   "source": [
    "#convert binary number to decimal number \n",
    "n=list(input(\"enter the binary value:\"))\n",
    "value=0\n",
    "for i in range(len(n)):\n",
    "    digit=n.pop()\n",
    "    if digit==\"1\":\n",
    "        value=value+pow(2,i)\n",
    "        print(\"the decimal valueof the number is \",value)"
   ]
  },
  {
   "cell_type": "code",
   "execution_count": 2,
   "metadata": {},
   "outputs": [
    {
     "name": "stdout",
     "output_type": "stream",
     "text": [
      "enter the value of n:23\n",
      "the fibonacci series:\n",
      "3\n",
      "4\n",
      "7\n",
      "11\n",
      "18\n",
      "29\n",
      "47\n",
      "76\n",
      "123\n",
      "199\n",
      "322\n",
      "521\n",
      "843\n",
      "1364\n",
      "2207\n",
      "3571\n",
      "5778\n",
      "9349\n",
      "15127\n",
      "24476\n",
      "39603\n",
      "64079\n"
     ]
    }
   ],
   "source": [
    "#fibonacci series \n",
    "n=int(input(\"enter the value of n:\"))\n",
    "a=3\n",
    "b=4\n",
    "c=1\n",
    "print(\"the fibonacci series:\")\n",
    "for i in range(1,n):\n",
    "    print(a)\n",
    "    c=a+b\n",
    "    a=b\n",
    "    b=c"
   ]
  },
  {
   "cell_type": "code",
   "execution_count": 5,
   "metadata": {},
   "outputs": [
    {
     "name": "stdout",
     "output_type": "stream",
     "text": [
      "enter the value of n:5\n",
      "the multiplication table of 5 :\n",
      "5 * 1 = 5\n",
      "5 * 2 = 10\n",
      "5 * 3 = 15\n",
      "5 * 4 = 20\n",
      "5 * 5 = 25\n",
      "5 * 6 = 30\n",
      "5 * 7 = 35\n",
      "5 * 8 = 40\n",
      "5 * 9 = 45\n",
      "5 * 10 = 50\n"
     ]
    }
   ],
   "source": [
    "#multiplication table\n",
    "n=int(input(\"enter the value of n:\"))\n",
    "print(\"the multiplication table of\",n,\":\")\n",
    "for i in range(1,11):\n",
    "    print(n,'*',i,\"=\",n*i)"
   ]
  },
  {
   "cell_type": "code",
   "execution_count": 6,
   "metadata": {},
   "outputs": [
    {
     "name": "stdout",
     "output_type": "stream",
     "text": [
      "enter any 10 numbers\n",
      "> 2\n",
      "the sum of entered 10 numbers is 2\n",
      "And their Average is 0.2\n",
      "> 3\n",
      "the sum of entered 10 numbers is 5\n",
      "And their Average is 0.5\n",
      "> 4\n",
      "the sum of entered 10 numbers is 9\n",
      "And their Average is 0.9\n",
      "> 5\n",
      "the sum of entered 10 numbers is 14\n",
      "And their Average is 1.4\n",
      "> 6\n",
      "the sum of entered 10 numbers is 20\n",
      "And their Average is 2.0\n",
      "> 7\n",
      "the sum of entered 10 numbers is 27\n",
      "And their Average is 2.7\n",
      "> 8\n",
      "the sum of entered 10 numbers is 35\n",
      "And their Average is 3.5\n",
      "> 9\n",
      "the sum of entered 10 numbers is 44\n",
      "And their Average is 4.4\n",
      "> 1\n",
      "the sum of entered 10 numbers is 45\n",
      "And their Average is 4.5\n",
      "> 12\n",
      "the sum of entered 10 numbers is 57\n",
      "And their Average is 5.7\n"
     ]
    }
   ],
   "source": [
    "#average of 10 numbers\n",
    "print(\"enter any 10 numbers\")\n",
    "sum=0\n",
    "avg=0\n",
    "for i in range(1,11):\n",
    "    n=int(input(\"> \"))\n",
    "    sum=sum+n\n",
    "    avg=sum/10\n",
    "    print(\"the sum of entered 10 numbers is\",sum)\n",
    "    print(\"And their Average is\",avg)"
   ]
  },
  {
   "cell_type": "code",
   "execution_count": 23,
   "metadata": {},
   "outputs": [
    {
     "name": "stdout",
     "output_type": "stream",
     "text": [
      "enter the number of rows:5\n",
      "* \n",
      "* * \n",
      "* * * \n",
      "* * * * \n",
      "* * * * * \n"
     ]
    }
   ],
   "source": [
    "#pattern printing\n",
    "n=int(input(\"enter the number of rows:\"))\n",
    "for i in range(0,n):\n",
    "    for j in range (0,i+1):\n",
    "          print(\"*\",end=\" \") \n",
    "    print(\"\\r\")    "
   ]
  },
  {
   "cell_type": "code",
   "execution_count": null,
   "metadata": {},
   "outputs": [],
   "source": []
  },
  {
   "cell_type": "code",
   "execution_count": null,
   "metadata": {},
   "outputs": [],
   "source": []
  }
 ],
 "metadata": {
  "kernelspec": {
   "display_name": "Python 3",
   "language": "python",
   "name": "python3"
  },
  "language_info": {
   "codemirror_mode": {
    "name": "ipython",
    "version": 3
   },
   "file_extension": ".py",
   "mimetype": "text/x-python",
   "name": "python",
   "nbconvert_exporter": "python",
   "pygments_lexer": "ipython3",
   "version": "3.7.4"
  }
 },
 "nbformat": 4,
 "nbformat_minor": 2
}
