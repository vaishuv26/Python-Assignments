{
 "cells": [
  {
   "cell_type": "code",
   "execution_count": 2,
   "metadata": {},
   "outputs": [
    {
     "name": "stdout",
     "output_type": "stream",
     "text": [
      "enter the value of a:4\n",
      "enter the value of b:5\n",
      "the Gcd of 4 and 5 is: 5\n",
      "the Gcd of 4 and 5 is: 4\n",
      "the Gcd of 4 and 5 is: 1\n"
     ]
    }
   ],
   "source": [
    "#Gcd\n",
    "p=0\n",
    "gcd=0\n",
    "a=int(input(\"enter the value of a:\"))\n",
    "b=int(input(\"enter the value of b:\"))\n",
    "m=a\n",
    "n=b\n",
    "while b!=0:\n",
    "    p=b\n",
    "    b=a%b\n",
    "    a=p\n",
    "    gcd=a\n",
    "    print(\"the Gcd of\",m,\"and\",n,\"is:\",gcd)"
   ]
  },
  {
   "cell_type": "code",
   "execution_count": 6,
   "metadata": {},
   "outputs": [
    {
     "name": "stdout",
     "output_type": "stream",
     "text": [
      "enter the string:honesty is best policy\n",
      "the original string is: honesty is best policy\n",
      "the reversed string is: ycilop tseb si ytsenoh \n"
     ]
    }
   ],
   "source": [
    "#reverse a string by input from user\n",
    "def reverse(s):\n",
    "    str=\" \"\n",
    "    for i in s:\n",
    "          str=i+str\n",
    "    return str\n",
    "s=str(input(\"enter the string:\"))\n",
    "print(\"the original string is:\",s)\n",
    "print(\"the reversed string is:\",reverse(s))"
   ]
  },
  {
   "cell_type": "code",
   "execution_count": 7,
   "metadata": {},
   "outputs": [
    {
     "name": "stdout",
     "output_type": "stream",
     "text": [
      "Numbers of even numbers: 4\n",
      "Numbers of odd numbers: 4\n"
     ]
    }
   ],
   "source": [
    "#even or odd\n",
    "n=[23,45,36,78,95,100,42,37]\n",
    "codd=0\n",
    "ceven=0\n",
    "for i in n:\n",
    "    if not i%2:\n",
    "        ceven=ceven+1\n",
    "    else:\n",
    "        codd=codd+1\n",
    "print(\"Numbers of even numbers:\",ceven)\n",
    "print(\"Numbers of odd numbers:\",codd)"
   ]
  },
  {
   "cell_type": "code",
   "execution_count": 8,
   "metadata": {},
   "outputs": [
    {
     "name": "stdout",
     "output_type": "stream",
     "text": [
      "0\n",
      "1\n",
      "2\n",
      "4\n",
      "5\n"
     ]
    }
   ],
   "source": [
    "#numbers from 0-6 except 3 and 6\n",
    "n=(0,1,2,3,4,5,6)\n",
    "print(0)\n",
    "for i in range(0,6):\n",
    "    if i%3!=0:\n",
    "        print(i)"
   ]
  },
  {
   "cell_type": "code",
   "execution_count": null,
   "metadata": {},
   "outputs": [],
   "source": []
  }
 ],
 "metadata": {
  "kernelspec": {
   "display_name": "Python 3",
   "language": "python",
   "name": "python3"
  },
  "language_info": {
   "codemirror_mode": {
    "name": "ipython",
    "version": 3
   },
   "file_extension": ".py",
   "mimetype": "text/x-python",
   "name": "python",
   "nbconvert_exporter": "python",
   "pygments_lexer": "ipython3",
   "version": "3.7.4"
  }
 },
 "nbformat": 4,
 "nbformat_minor": 2
}
