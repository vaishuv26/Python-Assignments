{
 "cells": [
  {
   "cell_type": "code",
   "execution_count": 1,
   "metadata": {},
   "outputs": [
    {
     "name": "stdout",
     "output_type": "stream",
     "text": [
      "a =  60\n",
      "b =  50\n"
     ]
    }
   ],
   "source": [
    "#swapping of two numbers\n",
    "a=50\n",
    "b = 60\n",
    "a, b = b, a\n",
    "print(\"a = \", a)\n",
    "print(\"b = \", b)"
   ]
  },
  {
   "cell_type": "code",
   "execution_count": 2,
   "metadata": {},
   "outputs": [
    {
     "name": "stdout",
     "output_type": "stream",
     "text": [
      "Area of circle= 78.5\n"
     ]
    }
   ],
   "source": [
    "#area of circle\n",
    "r=5\n",
    "area=3.14*r*r \n",
    "print(\"Area of circle=\",area)\n"
   ]
  },
  {
   "cell_type": "code",
   "execution_count": 3,
   "metadata": {},
   "outputs": [
    {
     "name": "stdout",
     "output_type": "stream",
     "text": [
      "area of rectangle 30\n"
     ]
    }
   ],
   "source": [
    "#area of rectangle\n",
    "l=5\n",
    "b=6\n",
    "c=l*b \n",
    "print(\"area of rectangle\",c)"
   ]
  },
  {
   "cell_type": "code",
   "execution_count": 4,
   "metadata": {},
   "outputs": [
    {
     "name": "stdout",
     "output_type": "stream",
     "text": [
      "simple intrest 3.6\n"
     ]
    }
   ],
   "source": [
    "#simple intrest\n",
    "p=12\n",
    "t=5\n",
    "r=6\n",
    "SI=p*t*r/100\n",
    "print(\"simple intrest\",SI)"
   ]
  },
  {
   "cell_type": "code",
   "execution_count": 5,
   "metadata": {},
   "outputs": [
    {
     "name": "stdout",
     "output_type": "stream",
     "text": [
      "circumference of the circle 50.24\n"
     ]
    }
   ],
   "source": [
    "#circumference of circle\n",
    "r=8\n",
    "c=2*3.14*r\n",
    "print(\"circumference of the circle\",c)"
   ]
  },
  {
   "cell_type": "code",
   "execution_count": 6,
   "metadata": {},
   "outputs": [
    {
     "name": "stdout",
     "output_type": "stream",
     "text": [
      "area of triangle 17.5\n"
     ]
    }
   ],
   "source": [
    "#area of triangle\n",
    "b=5\n",
    "h=7\n",
    "c=0.5*b*h \n",
    "print(\"area of triangle\",c)"
   ]
  },
  {
   "cell_type": "code",
   "execution_count": 7,
   "metadata": {},
   "outputs": [
    {
     "name": "stdout",
     "output_type": "stream",
     "text": [
      "convert celsius to faraheit  31.5 63.5\n"
     ]
    }
   ],
   "source": [
    "#convert celsius to farenhiet\n",
    "r=15\n",
    "f=3\n",
    "r=c*9/5\n",
    "f=r+32\n",
    "print(\"convert celsius to faraheit \",r,f)\n"
   ]
  },
  {
   "cell_type": "code",
   "execution_count": 8,
   "metadata": {},
   "outputs": [
    {
     "name": "stdout",
     "output_type": "stream",
     "text": [
      "convert celsius to faraheit  31.5 63.5\n"
     ]
    }
   ],
   "source": [
    "#convert celsius to farenhiet\n",
    "r=15\n",
    "f=3\n",
    "r=c*9/5\n",
    "f=r+32\n",
    "print(\"convert celsius to faraheit \",r,f)"
   ]
  },
  {
   "cell_type": "code",
   "execution_count": 9,
   "metadata": {},
   "outputs": [
    {
     "name": "stdout",
     "output_type": "stream",
     "text": [
      "13\n",
      "-3\n",
      "40\n",
      "0.625\n",
      "5\n",
      "13\n",
      "0\n"
     ]
    }
   ],
   "source": [
    "#simple calculator\n",
    "\n",
    "a=5\n",
    "b=8\n",
    "#Addition\n",
    "print(a+b)\n",
    "#subtraction\n",
    "print(a-b)\n",
    "#multiplication\n",
    "print(a*b)\n",
    "#division\n",
    "print(a/b)\n",
    "#modulus\n",
    "print(a%b)\n",
    "#Exponent\n",
    "print(a^b)\n",
    "#floor dvision\n",
    "print(a//b)\n",
    "\n",
    "\n",
    "\n",
    "\n"
   ]
  },
  {
   "cell_type": "code",
   "execution_count": null,
   "metadata": {},
   "outputs": [],
   "source": []
  }
 ],
 "metadata": {
  "kernelspec": {
   "display_name": "Python 3",
   "language": "python",
   "name": "python3"
  },
  "language_info": {
   "codemirror_mode": {
    "name": "ipython",
    "version": 3
   },
   "file_extension": ".py",
   "mimetype": "text/x-python",
   "name": "python",
   "nbconvert_exporter": "python",
   "pygments_lexer": "ipython3",
   "version": "3.7.4"
  }
 },
 "nbformat": 4,
 "nbformat_minor": 2
}
