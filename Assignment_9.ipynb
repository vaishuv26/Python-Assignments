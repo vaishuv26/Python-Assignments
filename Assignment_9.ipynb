{
 "cells": [
  {
   "cell_type": "code",
   "execution_count": 1,
   "metadata": {},
   "outputs": [
    {
     "name": "stdout",
     "output_type": "stream",
     "text": [
      "enter the size of the list:4\n",
      "enter number at location 0 :\n",
      "3\n",
      "the list is= [3]\n",
      "The sum of elements in the list is 3\n",
      "enter number at location 1 :\n",
      "4\n",
      "the list is= [3, 4]\n",
      "The sum of elements in the list is 7\n",
      "enter number at location 2 :\n",
      "6\n",
      "the list is= [3, 4, 6]\n",
      "The sum of elements in the list is 13\n",
      "enter number at location 3 :\n",
      "5\n",
      "the list is= [3, 4, 6, 5]\n",
      "The sum of elements in the list is 18\n"
     ]
    }
   ],
   "source": [
    "list1=[]\n",
    "n=int(input(\"enter the size of the list:\"))\n",
    "for i in range(0,n):\n",
    "    print(\"enter number at location\",i,\":\")\n",
    "    item=int(input())\n",
    "    list1.append(item)\n",
    "    print(\"the list is=\",list1)\n",
    "    print(\"The sum of elements in the list is\",sum(list1))\n"
   ]
  },
  {
   "cell_type": "code",
   "execution_count": 32,
   "metadata": {},
   "outputs": [],
   "source": [
    "def listMultiply(mylist):\n",
    "    result=1\n",
    "    for x in range(0,n):\n",
    "        result=result*x\n",
    "        return result\n",
    "    list1=[]\n",
    "    n=int(input(\"enter the size of the list:\"))\n",
    "    for i in range(0, n):\n",
    "        print(\"enter number at location\",i,\":\")\n",
    "        item = int(input())\n",
    "        list1.append(item)\n",
    "        print(\"the list is=\",list1)\n",
    "        print(\"the multiplication of elements in the list is\",listMultiply(list1))"
   ]
  },
  {
   "cell_type": "code",
   "execution_count": 33,
   "metadata": {},
   "outputs": [],
   "source": [
    "def Remove(list1):\n",
    "    final_list=[]\n",
    "    for n in list1:\n",
    "        if n not in final_list:\n",
    "            final_list.append(n)\n",
    "            list1=[]\n",
    "            n=int(input(\"enter the size of the list:\"))\n",
    "            for i in range(0,n):\n",
    "                print(\"enter number at location\",i,\":\")\n",
    "                item=int(input())\n",
    "                list1.append(item)\n",
    "                print(\"the list with the duplicate values is=\",list1)\n",
    "                print(\"the list with the duplicate values is=\")"
   ]
  },
  {
   "cell_type": "code",
   "execution_count": 30,
   "metadata": {},
   "outputs": [
    {
     "ename": "SyntaxError",
     "evalue": "invalid syntax (<ipython-input-30-364838796cd8>, line 4)",
     "output_type": "error",
     "traceback": [
      "\u001b[1;36m  File \u001b[1;32m\"<ipython-input-30-364838796cd8>\"\u001b[1;36m, line \u001b[1;32m4\u001b[0m\n\u001b[1;33m    else\u001b[0m\n\u001b[1;37m        ^\u001b[0m\n\u001b[1;31mSyntaxError\u001b[0m\u001b[1;31m:\u001b[0m invalid syntax\n"
     ]
    }
   ],
   "source": [
    "def Verify(List1):\n",
    "    if len(List1)==0:\n",
    "        return True\n",
    "    else:\n",
    "        return False\n",
    "    List1=[]\n",
    "if Verify (List1):\n",
    "        print(\"empty list\")\n",
    "        else:\n",
    "            print(\"the list is not empty\")\n",
    "    "
   ]
  },
  {
   "cell_type": "code",
   "execution_count": null,
   "metadata": {},
   "outputs": [],
   "source": []
  },
  {
   "cell_type": "code",
   "execution_count": null,
   "metadata": {},
   "outputs": [],
   "source": []
  }
 ],
 "metadata": {
  "kernelspec": {
   "display_name": "Python 3",
   "language": "python",
   "name": "python3"
  },
  "language_info": {
   "codemirror_mode": {
    "name": "ipython",
    "version": 3
   },
   "file_extension": ".py",
   "mimetype": "text/x-python",
   "name": "python",
   "nbconvert_exporter": "python",
   "pygments_lexer": "ipython3",
   "version": "3.7.4"
  }
 },
 "nbformat": 4,
 "nbformat_minor": 2
}
